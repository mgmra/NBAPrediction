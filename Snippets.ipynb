{
 "cells": [
  {
   "cell_type": "code",
   "execution_count": null,
   "metadata": {},
   "outputs": [],
   "source": [
    "estimators = [('selector', SelectKBest()), ('scaler', StandardScaler()), ('clf', SVC())]\n",
    "pipe = Pipeline(estimators)\n",
    "\n",
    "\n",
    "grid_search = GridSearchCV(pipe, param_grid, verbose=5)\n",
    "\n",
    "\n",
    "grid_search.fit(X_train, y_train)\n",
    "y_pred = grid_search.predict(X_test)\n",
    "\n",
    "cv_results = grid_search.cv_results_\n",
    "cv_results_df = pd.DataFrame(cv_results).sort_values(by=['rank_test_score'])\n",
    "\n",
    "\n",
    "test_pipe = Pipeline(\n",
    "                     [('selector', selector),\n",
    "                     ('scaler', cv_results_df['param_scaler'].iloc[1]),\n",
    "                     ('clf', cv_results_df['param_clf'].iloc[1])]\n",
    "                     )\n",
    "test_pipe.fit(X_train, y_train)\n",
    "y_pred_test = test_pipe.predict(X_test)\n",
    "\n",
    "acc = accuracy_score(y_test, y_pred_test)\n",
    "print(acc)\n",
    "\n",
    "print(confusion_matrix(y_test, y_pred_test))\n",
    "print(classification_report(y_test, y_pred_test))\n",
    "\n",
    "\n",
    "#Ridge Regression\n",
    "#For classification: chi2, f_classif, mutual_info_classif\n",
    "\n",
    "print(confusion_matrix(y_test, y_pred))\n",
    "print(classification_report(y_test, y_pred))\n",
    "\n",
    "print(grid_search.best_params_)\n",
    "\n",
    "\n",
    "# Import necessary modules\n",
    "from sklearn.metrics import roc_curve\n",
    "\n",
    "# Compute predicted probabilities: y_pred_prob\n",
    "y_pred_prob = grid_search.predict_proba(X_test)[:,1]\n",
    "\n",
    "# Generate ROC curve values: fpr, tpr, thresholds\n",
    "fpr, tpr, thresholds = roc_curve(y_test, y_pred_prob)\n",
    "\n",
    "# Plot ROC curve\n",
    "plt.plot([0, 1], [0, 1], 'k--')\n",
    "plt.plot(fpr, tpr)\n",
    "plt.xlabel('False Positive Rate')\n",
    "plt.ylabel('True Positive Rate')\n",
    "plt.title('ROC Curve')\n",
    "plt.show()\n"
   ]
  }
 ],
 "metadata": {
  "kernelspec": {
   "display_name": "Python 3",
   "language": "python",
   "name": "python3"
  },
  "language_info": {
   "codemirror_mode": {
    "name": "ipython",
    "version": 3
   },
   "file_extension": ".py",
   "mimetype": "text/x-python",
   "name": "python",
   "nbconvert_exporter": "python",
   "pygments_lexer": "ipython3",
   "version": "3.8.3"
  }
 },
 "nbformat": 4,
 "nbformat_minor": 4
}
